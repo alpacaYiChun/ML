{
  "cells": [
    {
      "cell_type": "markdown",
      "metadata": {
        "id": "view-in-github",
        "colab_type": "text"
      },
      "source": [
        "<a href=\"https://colab.research.google.com/github/alpacaYiChun/ML/blob/master/Clip2.ipynb\" target=\"_parent\"><img src=\"https://colab.research.google.com/assets/colab-badge.svg\" alt=\"Open In Colab\"/></a>"
      ]
    },
    {
      "cell_type": "markdown",
      "metadata": {
        "id": "2avF-Rh4xT3Y"
      },
      "source": [
        "## Introduction\n",
        "\n",
        "The example demonstrates how to build a dual encoder (also known as two-tower) neural network\n",
        "model to search for images using natural language. The model is inspired by\n",
        "the [CLIP](https://openai.com/blog/clip/)\n",
        "approach, introduced by Alec Radford et al. The idea is to train a vision encoder and a text\n",
        "encoder jointly to project the representation of images and their captions into the same embedding\n",
        "space, such that the caption embeddings are located near the embeddings of the images they describe.\n",
        "\n",
        "This example requires TensorFlow 2.4 or higher.\n",
        "In addition, [TensorFlow Hub](https://www.tensorflow.org/hub)\n",
        "and [TensorFlow Text](https://www.tensorflow.org/tutorials/tensorflow_text/intro)\n",
        "are required for the BERT model, and [TensorFlow Addons](https://www.tensorflow.org/addons)\n",
        "is required for the AdamW optimizer. These libraries can be installed using the\n",
        "following command:\n",
        "\n",
        "```python\n",
        "pip install -q -U tensorflow-hub tensorflow-text tensorflow-addons\n",
        "```"
      ]
    },
    {
      "cell_type": "code",
      "execution_count": 1,
      "metadata": {
        "colab": {
          "base_uri": "https://localhost:8080/"
        },
        "id": "ld2hWqedRLdc",
        "outputId": "29439711-f56b-4b02-a318-979ea17ffb18"
      },
      "outputs": [
        {
          "output_type": "stream",
          "name": "stdout",
          "text": [
            "Mounted at /content/gdrive\n"
          ]
        }
      ],
      "source": [
        "from google.colab import drive\n",
        "\n",
        "drive.mount('/content/gdrive')\n",
        "\n",
        "bgPath = '/content/gdrive/My Drive/CLIP'"
      ]
    },
    {
      "cell_type": "markdown",
      "metadata": {
        "id": "nBlL791-xT3Y"
      },
      "source": [
        "## Setup"
      ]
    },
    {
      "cell_type": "markdown",
      "metadata": {
        "id": "R2tuN_9BlPYl"
      },
      "source": []
    },
    {
      "cell_type": "code",
      "execution_count": 2,
      "metadata": {
        "colab": {
          "base_uri": "https://localhost:8080/"
        },
        "id": "cnnxfm39xT3Z",
        "outputId": "fad26ab6-9974-45dc-cf4d-9ffbefc58194"
      },
      "outputs": [
        {
          "output_type": "stream",
          "name": "stdout",
          "text": [
            "Collecting tensorflow==2.15.1\n",
            "  Downloading tensorflow-2.15.1-cp311-cp311-manylinux_2_17_x86_64.manylinux2014_x86_64.whl.metadata (4.2 kB)\n",
            "Requirement already satisfied: absl-py>=1.0.0 in /usr/local/lib/python3.11/dist-packages (from tensorflow==2.15.1) (1.4.0)\n",
            "Collecting astunparse>=1.6.0 (from tensorflow==2.15.1)\n",
            "  Downloading astunparse-1.6.3-py2.py3-none-any.whl.metadata (4.4 kB)\n",
            "Collecting flatbuffers>=23.5.26 (from tensorflow==2.15.1)\n",
            "  Downloading flatbuffers-25.2.10-py2.py3-none-any.whl.metadata (875 bytes)\n",
            "Requirement already satisfied: gast!=0.5.0,!=0.5.1,!=0.5.2,>=0.2.1 in /usr/local/lib/python3.11/dist-packages (from tensorflow==2.15.1) (0.6.0)\n",
            "Collecting google-pasta>=0.1.1 (from tensorflow==2.15.1)\n",
            "  Downloading google_pasta-0.2.0-py3-none-any.whl.metadata (814 bytes)\n",
            "Requirement already satisfied: h5py>=2.9.0 in /usr/local/lib/python3.11/dist-packages (from tensorflow==2.15.1) (3.13.0)\n",
            "Collecting libclang>=13.0.0 (from tensorflow==2.15.1)\n",
            "  Downloading libclang-18.1.1-py2.py3-none-manylinux2010_x86_64.whl.metadata (5.2 kB)\n",
            "Collecting ml-dtypes~=0.3.1 (from tensorflow==2.15.1)\n",
            "  Downloading ml_dtypes-0.3.2-cp311-cp311-manylinux_2_17_x86_64.manylinux2014_x86_64.whl.metadata (20 kB)\n",
            "Requirement already satisfied: numpy<2.0.0,>=1.23.5 in /usr/local/lib/python3.11/dist-packages (from tensorflow==2.15.1) (1.26.4)\n",
            "Requirement already satisfied: opt-einsum>=2.3.2 in /usr/local/lib/python3.11/dist-packages (from tensorflow==2.15.1) (3.4.0)\n",
            "Requirement already satisfied: packaging in /usr/local/lib/python3.11/dist-packages (from tensorflow==2.15.1) (24.2)\n",
            "Collecting protobuf!=4.21.0,!=4.21.1,!=4.21.2,!=4.21.3,!=4.21.4,!=4.21.5,<5.0.0dev,>=3.20.3 (from tensorflow==2.15.1)\n",
            "  Downloading protobuf-4.25.6-cp37-abi3-manylinux2014_x86_64.whl.metadata (541 bytes)\n",
            "Requirement already satisfied: setuptools in /usr/local/lib/python3.11/dist-packages (from tensorflow==2.15.1) (75.1.0)\n",
            "Requirement already satisfied: six>=1.12.0 in /usr/local/lib/python3.11/dist-packages (from tensorflow==2.15.1) (1.17.0)\n",
            "Requirement already satisfied: termcolor>=1.1.0 in /usr/local/lib/python3.11/dist-packages (from tensorflow==2.15.1) (2.5.0)\n",
            "Requirement already satisfied: typing-extensions>=3.6.6 in /usr/local/lib/python3.11/dist-packages (from tensorflow==2.15.1) (4.12.2)\n",
            "Collecting wrapt<1.15,>=1.11.0 (from tensorflow==2.15.1)\n",
            "  Downloading wrapt-1.14.1-cp311-cp311-manylinux_2_5_x86_64.manylinux1_x86_64.manylinux_2_17_x86_64.manylinux2014_x86_64.whl.metadata (6.7 kB)\n",
            "Collecting tensorflow-io-gcs-filesystem>=0.23.1 (from tensorflow==2.15.1)\n",
            "  Downloading tensorflow_io_gcs_filesystem-0.37.1-cp311-cp311-manylinux_2_17_x86_64.manylinux2014_x86_64.whl.metadata (14 kB)\n",
            "Requirement already satisfied: grpcio<2.0,>=1.24.3 in /usr/local/lib/python3.11/dist-packages (from tensorflow==2.15.1) (1.71.0)\n",
            "Collecting tensorboard<2.16,>=2.15 (from tensorflow==2.15.1)\n",
            "  Downloading tensorboard-2.15.2-py3-none-any.whl.metadata (1.7 kB)\n",
            "Collecting tensorflow-estimator<2.16,>=2.15.0 (from tensorflow==2.15.1)\n",
            "  Downloading tensorflow_estimator-2.15.0-py2.py3-none-any.whl.metadata (1.3 kB)\n",
            "Collecting keras<2.16,>=2.15.0 (from tensorflow==2.15.1)\n",
            "  Downloading keras-2.15.0-py3-none-any.whl.metadata (2.4 kB)\n",
            "Collecting wheel<1.0,>=0.23.0 (from astunparse>=1.6.0->tensorflow==2.15.1)\n",
            "  Downloading wheel-0.45.1-py3-none-any.whl.metadata (2.3 kB)\n",
            "Requirement already satisfied: google-auth<3,>=1.6.3 in /usr/local/lib/python3.11/dist-packages (from tensorboard<2.16,>=2.15->tensorflow==2.15.1) (2.38.0)\n",
            "Requirement already satisfied: google-auth-oauthlib<2,>=0.5 in /usr/local/lib/python3.11/dist-packages (from tensorboard<2.16,>=2.15->tensorflow==2.15.1) (1.2.1)\n",
            "Collecting markdown>=2.6.8 (from tensorboard<2.16,>=2.15->tensorflow==2.15.1)\n",
            "  Downloading Markdown-3.7-py3-none-any.whl.metadata (7.0 kB)\n",
            "Requirement already satisfied: requests<3,>=2.21.0 in /usr/local/lib/python3.11/dist-packages (from tensorboard<2.16,>=2.15->tensorflow==2.15.1) (2.32.3)\n",
            "Collecting tensorboard-data-server<0.8.0,>=0.7.0 (from tensorboard<2.16,>=2.15->tensorflow==2.15.1)\n",
            "  Downloading tensorboard_data_server-0.7.2-py3-none-manylinux_2_31_x86_64.whl.metadata (1.1 kB)\n",
            "Collecting werkzeug>=1.0.1 (from tensorboard<2.16,>=2.15->tensorflow==2.15.1)\n",
            "  Downloading werkzeug-3.1.3-py3-none-any.whl.metadata (3.7 kB)\n",
            "Requirement already satisfied: cachetools<6.0,>=2.0.0 in /usr/local/lib/python3.11/dist-packages (from google-auth<3,>=1.6.3->tensorboard<2.16,>=2.15->tensorflow==2.15.1) (5.5.2)\n",
            "Requirement already satisfied: pyasn1-modules>=0.2.1 in /usr/local/lib/python3.11/dist-packages (from google-auth<3,>=1.6.3->tensorboard<2.16,>=2.15->tensorflow==2.15.1) (0.4.1)\n",
            "Requirement already satisfied: rsa<5,>=3.1.4 in /usr/local/lib/python3.11/dist-packages (from google-auth<3,>=1.6.3->tensorboard<2.16,>=2.15->tensorflow==2.15.1) (4.9)\n",
            "Requirement already satisfied: requests-oauthlib>=0.7.0 in /usr/local/lib/python3.11/dist-packages (from google-auth-oauthlib<2,>=0.5->tensorboard<2.16,>=2.15->tensorflow==2.15.1) (2.0.0)\n",
            "Requirement already satisfied: charset-normalizer<4,>=2 in /usr/local/lib/python3.11/dist-packages (from requests<3,>=2.21.0->tensorboard<2.16,>=2.15->tensorflow==2.15.1) (3.4.1)\n",
            "Requirement already satisfied: idna<4,>=2.5 in /usr/local/lib/python3.11/dist-packages (from requests<3,>=2.21.0->tensorboard<2.16,>=2.15->tensorflow==2.15.1) (3.10)\n",
            "Requirement already satisfied: urllib3<3,>=1.21.1 in /usr/local/lib/python3.11/dist-packages (from requests<3,>=2.21.0->tensorboard<2.16,>=2.15->tensorflow==2.15.1) (2.3.0)\n",
            "Requirement already satisfied: certifi>=2017.4.17 in /usr/local/lib/python3.11/dist-packages (from requests<3,>=2.21.0->tensorboard<2.16,>=2.15->tensorflow==2.15.1) (2025.1.31)\n",
            "Requirement already satisfied: MarkupSafe>=2.1.1 in /usr/local/lib/python3.11/dist-packages (from werkzeug>=1.0.1->tensorboard<2.16,>=2.15->tensorflow==2.15.1) (3.0.2)\n",
            "Requirement already satisfied: pyasn1<0.7.0,>=0.4.6 in /usr/local/lib/python3.11/dist-packages (from pyasn1-modules>=0.2.1->google-auth<3,>=1.6.3->tensorboard<2.16,>=2.15->tensorflow==2.15.1) (0.6.1)\n",
            "Requirement already satisfied: oauthlib>=3.0.0 in /usr/local/lib/python3.11/dist-packages (from requests-oauthlib>=0.7.0->google-auth-oauthlib<2,>=0.5->tensorboard<2.16,>=2.15->tensorflow==2.15.1) (3.2.2)\n",
            "Downloading tensorflow-2.15.1-cp311-cp311-manylinux_2_17_x86_64.manylinux2014_x86_64.whl (475.3 MB)\n",
            "\u001b[2K   \u001b[90m━━━━━━━━━━━━━━━━━━━━━━━━━━━━━━━━━━━━━━━━\u001b[0m \u001b[32m475.3/475.3 MB\u001b[0m \u001b[31m1.9 MB/s\u001b[0m eta \u001b[36m0:00:00\u001b[0m\n",
            "\u001b[?25hDownloading astunparse-1.6.3-py2.py3-none-any.whl (12 kB)\n",
            "Downloading flatbuffers-25.2.10-py2.py3-none-any.whl (30 kB)\n",
            "Downloading google_pasta-0.2.0-py3-none-any.whl (57 kB)\n",
            "\u001b[2K   \u001b[90m━━━━━━━━━━━━━━━━━━━━━━━━━━━━━━━━━━━━━━━━\u001b[0m \u001b[32m57.5/57.5 kB\u001b[0m \u001b[31m3.9 MB/s\u001b[0m eta \u001b[36m0:00:00\u001b[0m\n",
            "\u001b[?25hDownloading keras-2.15.0-py3-none-any.whl (1.7 MB)\n",
            "\u001b[2K   \u001b[90m━━━━━━━━━━━━━━━━━━━━━━━━━━━━━━━━━━━━━━━━\u001b[0m \u001b[32m1.7/1.7 MB\u001b[0m \u001b[31m48.0 MB/s\u001b[0m eta \u001b[36m0:00:00\u001b[0m\n",
            "\u001b[?25hDownloading libclang-18.1.1-py2.py3-none-manylinux2010_x86_64.whl (24.5 MB)\n",
            "\u001b[2K   \u001b[90m━━━━━━━━━━━━━━━━━━━━━━━━━━━━━━━━━━━━━━━━\u001b[0m \u001b[32m24.5/24.5 MB\u001b[0m \u001b[31m69.2 MB/s\u001b[0m eta \u001b[36m0:00:00\u001b[0m\n",
            "\u001b[?25hDownloading ml_dtypes-0.3.2-cp311-cp311-manylinux_2_17_x86_64.manylinux2014_x86_64.whl (2.2 MB)\n",
            "\u001b[2K   \u001b[90m━━━━━━━━━━━━━━━━━━━━━━━━━━━━━━━━━━━━━━━━\u001b[0m \u001b[32m2.2/2.2 MB\u001b[0m \u001b[31m69.5 MB/s\u001b[0m eta \u001b[36m0:00:00\u001b[0m\n",
            "\u001b[?25hDownloading protobuf-4.25.6-cp37-abi3-manylinux2014_x86_64.whl (294 kB)\n",
            "\u001b[2K   \u001b[90m━━━━━━━━━━━━━━━━━━━━━━━━━━━━━━━━━━━━━━━━\u001b[0m \u001b[32m294.6/294.6 kB\u001b[0m \u001b[31m19.8 MB/s\u001b[0m eta \u001b[36m0:00:00\u001b[0m\n",
            "\u001b[?25hDownloading tensorboard-2.15.2-py3-none-any.whl (5.5 MB)\n",
            "\u001b[2K   \u001b[90m━━━━━━━━━━━━━━━━━━━━━━━━━━━━━━━━━━━━━━━━\u001b[0m \u001b[32m5.5/5.5 MB\u001b[0m \u001b[31m91.9 MB/s\u001b[0m eta \u001b[36m0:00:00\u001b[0m\n",
            "\u001b[?25hDownloading tensorflow_estimator-2.15.0-py2.py3-none-any.whl (441 kB)\n",
            "\u001b[2K   \u001b[90m━━━━━━━━━━━━━━━━━━━━━━━━━━━━━━━━━━━━━━━━\u001b[0m \u001b[32m442.0/442.0 kB\u001b[0m \u001b[31m7.8 MB/s\u001b[0m eta \u001b[36m0:00:00\u001b[0m\n",
            "\u001b[?25hDownloading tensorflow_io_gcs_filesystem-0.37.1-cp311-cp311-manylinux_2_17_x86_64.manylinux2014_x86_64.whl (5.1 MB)\n",
            "\u001b[2K   \u001b[90m━━━━━━━━━━━━━━━━━━━━━━━━━━━━━━━━━━━━━━━━\u001b[0m \u001b[32m5.1/5.1 MB\u001b[0m \u001b[31m100.5 MB/s\u001b[0m eta \u001b[36m0:00:00\u001b[0m\n",
            "\u001b[?25hDownloading wrapt-1.14.1-cp311-cp311-manylinux_2_5_x86_64.manylinux1_x86_64.manylinux_2_17_x86_64.manylinux2014_x86_64.whl (78 kB)\n",
            "\u001b[2K   \u001b[90m━━━━━━━━━━━━━━━━━━━━━━━━━━━━━━━━━━━━━━━━\u001b[0m \u001b[32m78.4/78.4 kB\u001b[0m \u001b[31m4.9 MB/s\u001b[0m eta \u001b[36m0:00:00\u001b[0m\n",
            "\u001b[?25hDownloading Markdown-3.7-py3-none-any.whl (106 kB)\n",
            "\u001b[2K   \u001b[90m━━━━━━━━━━━━━━━━━━━━━━━━━━━━━━━━━━━━━━━━\u001b[0m \u001b[32m106.3/106.3 kB\u001b[0m \u001b[31m7.0 MB/s\u001b[0m eta \u001b[36m0:00:00\u001b[0m\n",
            "\u001b[?25hDownloading tensorboard_data_server-0.7.2-py3-none-manylinux_2_31_x86_64.whl (6.6 MB)\n",
            "\u001b[2K   \u001b[90m━━━━━━━━━━━━━━━━━━━━━━━━━━━━━━━━━━━━━━━━\u001b[0m \u001b[32m6.6/6.6 MB\u001b[0m \u001b[31m88.2 MB/s\u001b[0m eta \u001b[36m0:00:00\u001b[0m\n",
            "\u001b[?25hDownloading werkzeug-3.1.3-py3-none-any.whl (224 kB)\n",
            "\u001b[2K   \u001b[90m━━━━━━━━━━━━━━━━━━━━━━━━━━━━━━━━━━━━━━━━\u001b[0m \u001b[32m224.5/224.5 kB\u001b[0m \u001b[31m15.0 MB/s\u001b[0m eta \u001b[36m0:00:00\u001b[0m\n",
            "\u001b[?25hDownloading wheel-0.45.1-py3-none-any.whl (72 kB)\n",
            "\u001b[2K   \u001b[90m━━━━━━━━━━━━━━━━━━━━━━━━━━━━━━━━━━━━━━━━\u001b[0m \u001b[32m72.5/72.5 kB\u001b[0m \u001b[31m5.3 MB/s\u001b[0m eta \u001b[36m0:00:00\u001b[0m\n",
            "\u001b[?25hInstalling collected packages: libclang, flatbuffers, wrapt, wheel, werkzeug, tensorflow-io-gcs-filesystem, tensorflow-estimator, tensorboard-data-server, protobuf, ml-dtypes, markdown, keras, google-pasta, astunparse, tensorboard, tensorflow\n",
            "  Attempting uninstall: wrapt\n",
            "    Found existing installation: wrapt 1.17.2\n",
            "    Uninstalling wrapt-1.17.2:\n",
            "      Successfully uninstalled wrapt-1.17.2\n",
            "  Attempting uninstall: protobuf\n",
            "    Found existing installation: protobuf 5.29.3\n",
            "    Uninstalling protobuf-5.29.3:\n",
            "      Successfully uninstalled protobuf-5.29.3\n",
            "  Attempting uninstall: ml-dtypes\n",
            "    Found existing installation: ml_dtypes 0.5.1\n",
            "    Uninstalling ml_dtypes-0.5.1:\n",
            "      Successfully uninstalled ml_dtypes-0.5.1\n",
            "  Attempting uninstall: keras\n",
            "    Found existing installation: keras 3.8.0\n",
            "    Uninstalling keras-3.8.0:\n",
            "      Successfully uninstalled keras-3.8.0\n",
            "\u001b[31mERROR: pip's dependency resolver does not currently take into account all the packages that are installed. This behaviour is the source of the following dependency conflicts.\n",
            "jax 0.5.2 requires ml_dtypes>=0.4.0, but you have ml-dtypes 0.3.2 which is incompatible.\u001b[0m\u001b[31m\n",
            "\u001b[0mSuccessfully installed astunparse-1.6.3 flatbuffers-25.2.10 google-pasta-0.2.0 keras-2.15.0 libclang-18.1.1 markdown-3.7 ml-dtypes-0.3.2 protobuf-4.25.6 tensorboard-2.15.2 tensorboard-data-server-0.7.2 tensorflow-2.15.1 tensorflow-estimator-2.15.0 tensorflow-io-gcs-filesystem-0.37.1 werkzeug-3.1.3 wheel-0.45.1 wrapt-1.14.1\n",
            "Collecting tensorflow_text==2.15.0\n",
            "  Downloading tensorflow_text-2.15.0-cp311-cp311-manylinux_2_17_x86_64.manylinux2014_x86_64.whl.metadata (1.9 kB)\n",
            "Collecting tensorflow-hub>=0.13.0 (from tensorflow_text==2.15.0)\n",
            "  Downloading tensorflow_hub-0.16.1-py2.py3-none-any.whl.metadata (1.3 kB)\n",
            "Requirement already satisfied: tensorflow<2.16,>=2.15.0 in /usr/local/lib/python3.11/dist-packages (from tensorflow_text==2.15.0) (2.15.1)\n",
            "Requirement already satisfied: absl-py>=1.0.0 in /usr/local/lib/python3.11/dist-packages (from tensorflow<2.16,>=2.15.0->tensorflow_text==2.15.0) (1.4.0)\n",
            "Requirement already satisfied: astunparse>=1.6.0 in /usr/local/lib/python3.11/dist-packages (from tensorflow<2.16,>=2.15.0->tensorflow_text==2.15.0) (1.6.3)\n",
            "Requirement already satisfied: flatbuffers>=23.5.26 in /usr/local/lib/python3.11/dist-packages (from tensorflow<2.16,>=2.15.0->tensorflow_text==2.15.0) (25.2.10)\n",
            "Requirement already satisfied: gast!=0.5.0,!=0.5.1,!=0.5.2,>=0.2.1 in /usr/local/lib/python3.11/dist-packages (from tensorflow<2.16,>=2.15.0->tensorflow_text==2.15.0) (0.6.0)\n",
            "Requirement already satisfied: google-pasta>=0.1.1 in /usr/local/lib/python3.11/dist-packages (from tensorflow<2.16,>=2.15.0->tensorflow_text==2.15.0) (0.2.0)\n",
            "Requirement already satisfied: h5py>=2.9.0 in /usr/local/lib/python3.11/dist-packages (from tensorflow<2.16,>=2.15.0->tensorflow_text==2.15.0) (3.13.0)\n",
            "Requirement already satisfied: libclang>=13.0.0 in /usr/local/lib/python3.11/dist-packages (from tensorflow<2.16,>=2.15.0->tensorflow_text==2.15.0) (18.1.1)\n",
            "Requirement already satisfied: ml-dtypes~=0.3.1 in /usr/local/lib/python3.11/dist-packages (from tensorflow<2.16,>=2.15.0->tensorflow_text==2.15.0) (0.3.2)\n",
            "Requirement already satisfied: numpy<2.0.0,>=1.23.5 in /usr/local/lib/python3.11/dist-packages (from tensorflow<2.16,>=2.15.0->tensorflow_text==2.15.0) (1.26.4)\n",
            "Requirement already satisfied: opt-einsum>=2.3.2 in /usr/local/lib/python3.11/dist-packages (from tensorflow<2.16,>=2.15.0->tensorflow_text==2.15.0) (3.4.0)\n",
            "Requirement already satisfied: packaging in /usr/local/lib/python3.11/dist-packages (from tensorflow<2.16,>=2.15.0->tensorflow_text==2.15.0) (24.2)\n",
            "Requirement already satisfied: protobuf!=4.21.0,!=4.21.1,!=4.21.2,!=4.21.3,!=4.21.4,!=4.21.5,<5.0.0dev,>=3.20.3 in /usr/local/lib/python3.11/dist-packages (from tensorflow<2.16,>=2.15.0->tensorflow_text==2.15.0) (4.25.6)\n",
            "Requirement already satisfied: setuptools in /usr/local/lib/python3.11/dist-packages (from tensorflow<2.16,>=2.15.0->tensorflow_text==2.15.0) (75.1.0)\n",
            "Requirement already satisfied: six>=1.12.0 in /usr/local/lib/python3.11/dist-packages (from tensorflow<2.16,>=2.15.0->tensorflow_text==2.15.0) (1.17.0)\n",
            "Requirement already satisfied: termcolor>=1.1.0 in /usr/local/lib/python3.11/dist-packages (from tensorflow<2.16,>=2.15.0->tensorflow_text==2.15.0) (2.5.0)\n",
            "Requirement already satisfied: typing-extensions>=3.6.6 in /usr/local/lib/python3.11/dist-packages (from tensorflow<2.16,>=2.15.0->tensorflow_text==2.15.0) (4.12.2)\n",
            "Requirement already satisfied: wrapt<1.15,>=1.11.0 in /usr/local/lib/python3.11/dist-packages (from tensorflow<2.16,>=2.15.0->tensorflow_text==2.15.0) (1.14.1)\n",
            "Requirement already satisfied: tensorflow-io-gcs-filesystem>=0.23.1 in /usr/local/lib/python3.11/dist-packages (from tensorflow<2.16,>=2.15.0->tensorflow_text==2.15.0) (0.37.1)\n",
            "Requirement already satisfied: grpcio<2.0,>=1.24.3 in /usr/local/lib/python3.11/dist-packages (from tensorflow<2.16,>=2.15.0->tensorflow_text==2.15.0) (1.71.0)\n",
            "Requirement already satisfied: tensorboard<2.16,>=2.15 in /usr/local/lib/python3.11/dist-packages (from tensorflow<2.16,>=2.15.0->tensorflow_text==2.15.0) (2.15.2)\n",
            "Requirement already satisfied: tensorflow-estimator<2.16,>=2.15.0 in /usr/local/lib/python3.11/dist-packages (from tensorflow<2.16,>=2.15.0->tensorflow_text==2.15.0) (2.15.0)\n",
            "Requirement already satisfied: keras<2.16,>=2.15.0 in /usr/local/lib/python3.11/dist-packages (from tensorflow<2.16,>=2.15.0->tensorflow_text==2.15.0) (2.15.0)\n",
            "Collecting tf-keras>=2.14.1 (from tensorflow-hub>=0.13.0->tensorflow_text==2.15.0)\n",
            "  Downloading tf_keras-2.19.0-py3-none-any.whl.metadata (1.8 kB)\n",
            "Requirement already satisfied: wheel<1.0,>=0.23.0 in /usr/local/lib/python3.11/dist-packages (from astunparse>=1.6.0->tensorflow<2.16,>=2.15.0->tensorflow_text==2.15.0) (0.45.1)\n",
            "Requirement already satisfied: google-auth<3,>=1.6.3 in /usr/local/lib/python3.11/dist-packages (from tensorboard<2.16,>=2.15->tensorflow<2.16,>=2.15.0->tensorflow_text==2.15.0) (2.38.0)\n",
            "Requirement already satisfied: google-auth-oauthlib<2,>=0.5 in /usr/local/lib/python3.11/dist-packages (from tensorboard<2.16,>=2.15->tensorflow<2.16,>=2.15.0->tensorflow_text==2.15.0) (1.2.1)\n",
            "Requirement already satisfied: markdown>=2.6.8 in /usr/local/lib/python3.11/dist-packages (from tensorboard<2.16,>=2.15->tensorflow<2.16,>=2.15.0->tensorflow_text==2.15.0) (3.7)\n",
            "Requirement already satisfied: requests<3,>=2.21.0 in /usr/local/lib/python3.11/dist-packages (from tensorboard<2.16,>=2.15->tensorflow<2.16,>=2.15.0->tensorflow_text==2.15.0) (2.32.3)\n",
            "Requirement already satisfied: tensorboard-data-server<0.8.0,>=0.7.0 in /usr/local/lib/python3.11/dist-packages (from tensorboard<2.16,>=2.15->tensorflow<2.16,>=2.15.0->tensorflow_text==2.15.0) (0.7.2)\n",
            "Requirement already satisfied: werkzeug>=1.0.1 in /usr/local/lib/python3.11/dist-packages (from tensorboard<2.16,>=2.15->tensorflow<2.16,>=2.15.0->tensorflow_text==2.15.0) (3.1.3)\n",
            "INFO: pip is looking at multiple versions of tf-keras to determine which version is compatible with other requirements. This could take a while.\n",
            "  Downloading tf_keras-2.18.0-py3-none-any.whl.metadata (1.6 kB)\n",
            "  Downloading tf_keras-2.17.0-py3-none-any.whl.metadata (1.6 kB)\n",
            "  Downloading tf_keras-2.16.0-py3-none-any.whl.metadata (1.6 kB)\n",
            "  Downloading tf_keras-2.15.1-py3-none-any.whl.metadata (1.7 kB)\n",
            "Requirement already satisfied: cachetools<6.0,>=2.0.0 in /usr/local/lib/python3.11/dist-packages (from google-auth<3,>=1.6.3->tensorboard<2.16,>=2.15->tensorflow<2.16,>=2.15.0->tensorflow_text==2.15.0) (5.5.2)\n",
            "Requirement already satisfied: pyasn1-modules>=0.2.1 in /usr/local/lib/python3.11/dist-packages (from google-auth<3,>=1.6.3->tensorboard<2.16,>=2.15->tensorflow<2.16,>=2.15.0->tensorflow_text==2.15.0) (0.4.1)\n",
            "Requirement already satisfied: rsa<5,>=3.1.4 in /usr/local/lib/python3.11/dist-packages (from google-auth<3,>=1.6.3->tensorboard<2.16,>=2.15->tensorflow<2.16,>=2.15.0->tensorflow_text==2.15.0) (4.9)\n",
            "Requirement already satisfied: requests-oauthlib>=0.7.0 in /usr/local/lib/python3.11/dist-packages (from google-auth-oauthlib<2,>=0.5->tensorboard<2.16,>=2.15->tensorflow<2.16,>=2.15.0->tensorflow_text==2.15.0) (2.0.0)\n",
            "Requirement already satisfied: charset-normalizer<4,>=2 in /usr/local/lib/python3.11/dist-packages (from requests<3,>=2.21.0->tensorboard<2.16,>=2.15->tensorflow<2.16,>=2.15.0->tensorflow_text==2.15.0) (3.4.1)\n",
            "Requirement already satisfied: idna<4,>=2.5 in /usr/local/lib/python3.11/dist-packages (from requests<3,>=2.21.0->tensorboard<2.16,>=2.15->tensorflow<2.16,>=2.15.0->tensorflow_text==2.15.0) (3.10)\n",
            "Requirement already satisfied: urllib3<3,>=1.21.1 in /usr/local/lib/python3.11/dist-packages (from requests<3,>=2.21.0->tensorboard<2.16,>=2.15->tensorflow<2.16,>=2.15.0->tensorflow_text==2.15.0) (2.3.0)\n",
            "Requirement already satisfied: certifi>=2017.4.17 in /usr/local/lib/python3.11/dist-packages (from requests<3,>=2.21.0->tensorboard<2.16,>=2.15->tensorflow<2.16,>=2.15.0->tensorflow_text==2.15.0) (2025.1.31)\n",
            "Requirement already satisfied: MarkupSafe>=2.1.1 in /usr/local/lib/python3.11/dist-packages (from werkzeug>=1.0.1->tensorboard<2.16,>=2.15->tensorflow<2.16,>=2.15.0->tensorflow_text==2.15.0) (3.0.2)\n",
            "Requirement already satisfied: pyasn1<0.7.0,>=0.4.6 in /usr/local/lib/python3.11/dist-packages (from pyasn1-modules>=0.2.1->google-auth<3,>=1.6.3->tensorboard<2.16,>=2.15->tensorflow<2.16,>=2.15.0->tensorflow_text==2.15.0) (0.6.1)\n",
            "Requirement already satisfied: oauthlib>=3.0.0 in /usr/local/lib/python3.11/dist-packages (from requests-oauthlib>=0.7.0->google-auth-oauthlib<2,>=0.5->tensorboard<2.16,>=2.15->tensorflow<2.16,>=2.15.0->tensorflow_text==2.15.0) (3.2.2)\n",
            "Downloading tensorflow_text-2.15.0-cp311-cp311-manylinux_2_17_x86_64.manylinux2014_x86_64.whl (5.2 MB)\n",
            "\u001b[2K   \u001b[90m━━━━━━━━━━━━━━━━━━━━━━━━━━━━━━━━━━━━━━━━\u001b[0m \u001b[32m5.2/5.2 MB\u001b[0m \u001b[31m41.3 MB/s\u001b[0m eta \u001b[36m0:00:00\u001b[0m\n",
            "\u001b[?25hDownloading tensorflow_hub-0.16.1-py2.py3-none-any.whl (30 kB)\n",
            "Downloading tf_keras-2.15.1-py3-none-any.whl (1.7 MB)\n",
            "\u001b[2K   \u001b[90m━━━━━━━━━━━━━━━━━━━━━━━━━━━━━━━━━━━━━━━━\u001b[0m \u001b[32m1.7/1.7 MB\u001b[0m \u001b[31m48.4 MB/s\u001b[0m eta \u001b[36m0:00:00\u001b[0m\n",
            "\u001b[?25hInstalling collected packages: tf-keras, tensorflow-hub, tensorflow_text\n",
            "Successfully installed tensorflow-hub-0.16.1 tensorflow_text-2.15.0 tf-keras-2.15.1\n",
            "Collecting tensorflow_hub==0.15.0\n",
            "  Downloading tensorflow_hub-0.15.0-py2.py3-none-any.whl.metadata (1.3 kB)\n",
            "Requirement already satisfied: numpy>=1.12.0 in /usr/local/lib/python3.11/dist-packages (from tensorflow_hub==0.15.0) (1.26.4)\n",
            "Requirement already satisfied: protobuf>=3.19.6 in /usr/local/lib/python3.11/dist-packages (from tensorflow_hub==0.15.0) (4.25.6)\n",
            "Downloading tensorflow_hub-0.15.0-py2.py3-none-any.whl (85 kB)\n",
            "\u001b[2K   \u001b[90m━━━━━━━━━━━━━━━━━━━━━━━━━━━━━━━━━━━━━━━━\u001b[0m \u001b[32m85.4/85.4 kB\u001b[0m \u001b[31m2.4 MB/s\u001b[0m eta \u001b[36m0:00:00\u001b[0m\n",
            "\u001b[?25hInstalling collected packages: tensorflow_hub\n",
            "  Attempting uninstall: tensorflow_hub\n",
            "    Found existing installation: tensorflow-hub 0.16.1\n",
            "    Uninstalling tensorflow-hub-0.16.1:\n",
            "      Successfully uninstalled tensorflow-hub-0.16.1\n",
            "Successfully installed tensorflow_hub-0.15.0\n",
            "Requirement already satisfied: transformers in /usr/local/lib/python3.11/dist-packages (4.48.3)\n",
            "Requirement already satisfied: tensorflow in /usr/local/lib/python3.11/dist-packages (2.15.1)\n",
            "Requirement already satisfied: filelock in /usr/local/lib/python3.11/dist-packages (from transformers) (3.17.0)\n",
            "Requirement already satisfied: huggingface-hub<1.0,>=0.24.0 in /usr/local/lib/python3.11/dist-packages (from transformers) (0.28.1)\n",
            "Requirement already satisfied: numpy>=1.17 in /usr/local/lib/python3.11/dist-packages (from transformers) (1.26.4)\n",
            "Requirement already satisfied: packaging>=20.0 in /usr/local/lib/python3.11/dist-packages (from transformers) (24.2)\n",
            "Requirement already satisfied: pyyaml>=5.1 in /usr/local/lib/python3.11/dist-packages (from transformers) (6.0.2)\n",
            "Requirement already satisfied: regex!=2019.12.17 in /usr/local/lib/python3.11/dist-packages (from transformers) (2024.11.6)\n",
            "Requirement already satisfied: requests in /usr/local/lib/python3.11/dist-packages (from transformers) (2.32.3)\n",
            "Requirement already satisfied: tokenizers<0.22,>=0.21 in /usr/local/lib/python3.11/dist-packages (from transformers) (0.21.0)\n",
            "Requirement already satisfied: safetensors>=0.4.1 in /usr/local/lib/python3.11/dist-packages (from transformers) (0.5.3)\n",
            "Requirement already satisfied: tqdm>=4.27 in /usr/local/lib/python3.11/dist-packages (from transformers) (4.67.1)\n",
            "Requirement already satisfied: absl-py>=1.0.0 in /usr/local/lib/python3.11/dist-packages (from tensorflow) (1.4.0)\n",
            "Requirement already satisfied: astunparse>=1.6.0 in /usr/local/lib/python3.11/dist-packages (from tensorflow) (1.6.3)\n",
            "Requirement already satisfied: flatbuffers>=23.5.26 in /usr/local/lib/python3.11/dist-packages (from tensorflow) (25.2.10)\n",
            "Requirement already satisfied: gast!=0.5.0,!=0.5.1,!=0.5.2,>=0.2.1 in /usr/local/lib/python3.11/dist-packages (from tensorflow) (0.6.0)\n",
            "Requirement already satisfied: google-pasta>=0.1.1 in /usr/local/lib/python3.11/dist-packages (from tensorflow) (0.2.0)\n",
            "Requirement already satisfied: h5py>=2.9.0 in /usr/local/lib/python3.11/dist-packages (from tensorflow) (3.13.0)\n",
            "Requirement already satisfied: libclang>=13.0.0 in /usr/local/lib/python3.11/dist-packages (from tensorflow) (18.1.1)\n",
            "Requirement already satisfied: ml-dtypes~=0.3.1 in /usr/local/lib/python3.11/dist-packages (from tensorflow) (0.3.2)\n",
            "Requirement already satisfied: opt-einsum>=2.3.2 in /usr/local/lib/python3.11/dist-packages (from tensorflow) (3.4.0)\n",
            "Requirement already satisfied: protobuf!=4.21.0,!=4.21.1,!=4.21.2,!=4.21.3,!=4.21.4,!=4.21.5,<5.0.0dev,>=3.20.3 in /usr/local/lib/python3.11/dist-packages (from tensorflow) (4.25.6)\n",
            "Requirement already satisfied: setuptools in /usr/local/lib/python3.11/dist-packages (from tensorflow) (75.1.0)\n",
            "Requirement already satisfied: six>=1.12.0 in /usr/local/lib/python3.11/dist-packages (from tensorflow) (1.17.0)\n",
            "Requirement already satisfied: termcolor>=1.1.0 in /usr/local/lib/python3.11/dist-packages (from tensorflow) (2.5.0)\n",
            "Requirement already satisfied: typing-extensions>=3.6.6 in /usr/local/lib/python3.11/dist-packages (from tensorflow) (4.12.2)\n",
            "Requirement already satisfied: wrapt<1.15,>=1.11.0 in /usr/local/lib/python3.11/dist-packages (from tensorflow) (1.14.1)\n",
            "Requirement already satisfied: tensorflow-io-gcs-filesystem>=0.23.1 in /usr/local/lib/python3.11/dist-packages (from tensorflow) (0.37.1)\n",
            "Requirement already satisfied: grpcio<2.0,>=1.24.3 in /usr/local/lib/python3.11/dist-packages (from tensorflow) (1.71.0)\n",
            "Requirement already satisfied: tensorboard<2.16,>=2.15 in /usr/local/lib/python3.11/dist-packages (from tensorflow) (2.15.2)\n",
            "Requirement already satisfied: tensorflow-estimator<2.16,>=2.15.0 in /usr/local/lib/python3.11/dist-packages (from tensorflow) (2.15.0)\n",
            "Requirement already satisfied: keras<2.16,>=2.15.0 in /usr/local/lib/python3.11/dist-packages (from tensorflow) (2.15.0)\n",
            "Requirement already satisfied: wheel<1.0,>=0.23.0 in /usr/local/lib/python3.11/dist-packages (from astunparse>=1.6.0->tensorflow) (0.45.1)\n",
            "Requirement already satisfied: fsspec>=2023.5.0 in /usr/local/lib/python3.11/dist-packages (from huggingface-hub<1.0,>=0.24.0->transformers) (2025.3.0)\n",
            "Requirement already satisfied: google-auth<3,>=1.6.3 in /usr/local/lib/python3.11/dist-packages (from tensorboard<2.16,>=2.15->tensorflow) (2.38.0)\n",
            "Requirement already satisfied: google-auth-oauthlib<2,>=0.5 in /usr/local/lib/python3.11/dist-packages (from tensorboard<2.16,>=2.15->tensorflow) (1.2.1)\n",
            "Requirement already satisfied: markdown>=2.6.8 in /usr/local/lib/python3.11/dist-packages (from tensorboard<2.16,>=2.15->tensorflow) (3.7)\n",
            "Requirement already satisfied: tensorboard-data-server<0.8.0,>=0.7.0 in /usr/local/lib/python3.11/dist-packages (from tensorboard<2.16,>=2.15->tensorflow) (0.7.2)\n",
            "Requirement already satisfied: werkzeug>=1.0.1 in /usr/local/lib/python3.11/dist-packages (from tensorboard<2.16,>=2.15->tensorflow) (3.1.3)\n",
            "Requirement already satisfied: charset-normalizer<4,>=2 in /usr/local/lib/python3.11/dist-packages (from requests->transformers) (3.4.1)\n",
            "Requirement already satisfied: idna<4,>=2.5 in /usr/local/lib/python3.11/dist-packages (from requests->transformers) (3.10)\n",
            "Requirement already satisfied: urllib3<3,>=1.21.1 in /usr/local/lib/python3.11/dist-packages (from requests->transformers) (2.3.0)\n",
            "Requirement already satisfied: certifi>=2017.4.17 in /usr/local/lib/python3.11/dist-packages (from requests->transformers) (2025.1.31)\n",
            "Requirement already satisfied: cachetools<6.0,>=2.0.0 in /usr/local/lib/python3.11/dist-packages (from google-auth<3,>=1.6.3->tensorboard<2.16,>=2.15->tensorflow) (5.5.2)\n",
            "Requirement already satisfied: pyasn1-modules>=0.2.1 in /usr/local/lib/python3.11/dist-packages (from google-auth<3,>=1.6.3->tensorboard<2.16,>=2.15->tensorflow) (0.4.1)\n",
            "Requirement already satisfied: rsa<5,>=3.1.4 in /usr/local/lib/python3.11/dist-packages (from google-auth<3,>=1.6.3->tensorboard<2.16,>=2.15->tensorflow) (4.9)\n",
            "Requirement already satisfied: requests-oauthlib>=0.7.0 in /usr/local/lib/python3.11/dist-packages (from google-auth-oauthlib<2,>=0.5->tensorboard<2.16,>=2.15->tensorflow) (2.0.0)\n",
            "Requirement already satisfied: MarkupSafe>=2.1.1 in /usr/local/lib/python3.11/dist-packages (from werkzeug>=1.0.1->tensorboard<2.16,>=2.15->tensorflow) (3.0.2)\n",
            "Requirement already satisfied: pyasn1<0.7.0,>=0.4.6 in /usr/local/lib/python3.11/dist-packages (from pyasn1-modules>=0.2.1->google-auth<3,>=1.6.3->tensorboard<2.16,>=2.15->tensorflow) (0.6.1)\n",
            "Requirement already satisfied: oauthlib>=3.0.0 in /usr/local/lib/python3.11/dist-packages (from requests-oauthlib>=0.7.0->google-auth-oauthlib<2,>=0.5->tensorboard<2.16,>=2.15->tensorflow) (3.2.2)\n"
          ]
        },
        {
          "output_type": "stream",
          "name": "stderr",
          "text": [
            "/usr/local/lib/python3.11/dist-packages/torch_xla/__init__.py:251: UserWarning: `tensorflow` can conflict with `torch-xla`. Prefer `tensorflow-cpu` when using PyTorch/XLA. To silence this warning, `pip uninstall -y tensorflow && pip install tensorflow-cpu`. If you are in a notebook environment such as Colab or Kaggle, restart your notebook runtime afterwards.\n",
            "  warnings.warn(\n"
          ]
        }
      ],
      "source": [
        "!pip install tensorflow==2.15.1\n",
        "!pip install tensorflow_text==2.15.0\n",
        "!pip install tensorflow_hub==0.15.0\n",
        "#!pip install -q -U tensorflow tensorflow-hub tensorflow-text tqdm\n",
        "#pip install --upgrade keras-nlp\n",
        "#pip list | grep keras\n",
        "\n",
        "import os\n",
        "import collections\n",
        "import json\n",
        "import numpy as np\n",
        "import tensorflow as tf\n",
        "from tensorflow import keras\n",
        "!pip install transformers tensorflow\n",
        "from transformers import TFAutoModel, AutoImageProcessor\n",
        "from tensorflow.keras import layers\n",
        "from tensorflow.keras import regularizers\n",
        "#import keras_nlp\n",
        "import tensorflow_hub as hub\n",
        "import tensorflow_text as text\n",
        "import matplotlib.pyplot as plt\n",
        "import matplotlib.image as mpimg\n",
        "from tqdm import tqdm\n",
        "\n",
        "#from tensorflow.python.framework.ops import disable_eager_execution\n",
        "#disable_eager_execution()\n",
        "\n",
        "# Suppressing tf.hub warnings\n",
        "tf.get_logger().setLevel(\"ERROR\")\n",
        "\n",
        "#tf.config.experimental_run_functions_eagerly(True)"
      ]
    },
    {
      "cell_type": "code",
      "execution_count": 3,
      "metadata": {
        "id": "hJnRgzijmW1e"
      },
      "outputs": [],
      "source": [
        "W = 224\n",
        "H = 224\n",
        "C = 3"
      ]
    },
    {
      "cell_type": "markdown",
      "metadata": {
        "id": "7jpYqWFhxT3Z"
      },
      "source": [
        "## Prepare the data\n",
        "\n",
        "We will use the [MS-COCO](https://cocodataset.org/#home) dataset to train our\n",
        "dual encoder model. MS-COCO contains over 82,000 images, each of which has at least\n",
        "5 different caption annotations. The dataset is usually used for\n",
        "[image captioning](https://www.tensorflow.org/tutorials/text/image_captioning)\n",
        "tasks, but we can repurpose the image-caption pairs to train our dual encoder\n",
        "model for image search.\n",
        "\n",
        "###\n",
        "Download and extract the data\n",
        "\n",
        "First, let's download the dataset, which consists of two compressed folders:\n",
        "one with images, and the other—with associated image captions.\n",
        "Note that the compressed images folder is 13GB in size."
      ]
    },
    {
      "cell_type": "code",
      "execution_count": 4,
      "metadata": {
        "colab": {
          "base_uri": "https://localhost:8080/"
        },
        "id": "m0Bf68D2xT3a",
        "outputId": "3bb2f947-f64d-4a48-ba4c-9edc1664e7af"
      },
      "outputs": [
        {
          "output_type": "stream",
          "name": "stdout",
          "text": [
            "Downloading data from http://images.cocodataset.org/annotations/annotations_trainval2014.zip\n",
            "252872794/252872794 [==============================] - 3s 0us/step\n",
            "Downloading data from http://images.cocodataset.org/zips/train2014.zip\n",
            "13510573713/13510573713 [==============================] - 221s 0us/step\n",
            "Dataset is downloaded and extracted successfully.\n",
            "Number of images: 82783\n"
          ]
        }
      ],
      "source": [
        "root_dir = \"datasets\"\n",
        "annotations_dir = os.path.join(root_dir, \"annotations\")\n",
        "images_dir = os.path.join(root_dir, \"train2014\")\n",
        "tfrecords_dir = os.path.join(root_dir, \"tfrecords\")\n",
        "annotation_file = os.path.join(annotations_dir, \"captions_train2014.json\")\n",
        "\n",
        "# Download caption annotation files\n",
        "if not os.path.exists(annotations_dir):\n",
        "    annotation_zip = tf.keras.utils.get_file(\n",
        "        \"captions.zip\",\n",
        "        cache_dir=os.path.abspath(\".\"),\n",
        "        origin=\"http://images.cocodataset.org/annotations/annotations_trainval2014.zip\",\n",
        "        extract=True,\n",
        "    )\n",
        "    os.remove(annotation_zip)\n",
        "\n",
        "# Download image files\n",
        "if not os.path.exists(images_dir):\n",
        "    image_zip = tf.keras.utils.get_file(\n",
        "        \"train2014.zip\",\n",
        "        cache_dir=os.path.abspath(\".\"),\n",
        "        origin=\"http://images.cocodataset.org/zips/train2014.zip\",\n",
        "        extract=True,\n",
        "    )\n",
        "    os.remove(image_zip)\n",
        "\n",
        "print(\"Dataset is downloaded and extracted successfully.\")\n",
        "\n",
        "with open(annotation_file, \"r\") as f:\n",
        "    annotations = json.load(f)[\"annotations\"]\n",
        "\n",
        "image_path_to_caption = collections.defaultdict(list)\n",
        "for element in annotations:\n",
        "    caption = f\"{element['caption'].lower().rstrip('.')}\"\n",
        "    image_path = images_dir + \"/COCO_train2014_\" + \"%012d.jpg\" % (element[\"image_id\"])\n",
        "    image_path_to_caption[image_path].append(caption)\n",
        "\n",
        "image_paths = list(image_path_to_caption.keys())\n",
        "print(f\"Number of images: {len(image_paths)}\")"
      ]
    },
    {
      "cell_type": "markdown",
      "metadata": {
        "id": "ZnOCZGdSxT3a"
      },
      "source": [
        "### Process and save the data to TFRecord files\n",
        "\n",
        "You can change the `sample_size` parameter to control many image-caption pairs\n",
        "will be used for training the dual encoder model.\n",
        "In this example we set `train_size` to 30,000 images,\n",
        "which is about 35% of the dataset. We use 2 captions for each\n",
        "image, thus producing 60,000 image-caption pairs. The size of the training set\n",
        "affects the quality of the produced encoders, but more examples would lead to\n",
        "longer training time."
      ]
    },
    {
      "cell_type": "code",
      "execution_count": 5,
      "metadata": {
        "colab": {
          "base_uri": "https://localhost:8080/"
        },
        "id": "Hj1KQP5TxT3b",
        "outputId": "8778fc6f-5bc0-4228-e37e-79b7589c985e"
      },
      "outputs": [
        {
          "output_type": "stream",
          "name": "stderr",
          "text": [
            "100%|██████████| 10/10 [01:10<00:00,  7.06s/it]\n"
          ]
        },
        {
          "output_type": "stream",
          "name": "stdout",
          "text": [
            "60000 training examples were written to tfrecord files.\n"
          ]
        },
        {
          "output_type": "stream",
          "name": "stderr",
          "text": [
            "100%|██████████| 3/3 [00:35<00:00, 11.79s/it]"
          ]
        },
        {
          "output_type": "stream",
          "name": "stdout",
          "text": [
            "15000 evaluation examples were written to tfrecord files.\n"
          ]
        },
        {
          "output_type": "stream",
          "name": "stderr",
          "text": [
            "\n"
          ]
        }
      ],
      "source": [
        "train_size = 20000\n",
        "valid_size = 5000\n",
        "captions_per_image = 3\n",
        "images_per_file = 2000\n",
        "\n",
        "train_image_paths = image_paths[:train_size]\n",
        "num_train_files = int(np.ceil(train_size / images_per_file))\n",
        "train_files_prefix = os.path.join(tfrecords_dir, \"train\")\n",
        "\n",
        "valid_image_paths = image_paths[-valid_size:]\n",
        "num_valid_files = int(np.ceil(valid_size / images_per_file))\n",
        "valid_files_prefix = os.path.join(tfrecords_dir, \"valid\")\n",
        "\n",
        "tf.io.gfile.makedirs(tfrecords_dir)\n",
        "\n",
        "\n",
        "def bytes_feature(value):\n",
        "    return tf.train.Feature(bytes_list=tf.train.BytesList(value=[value]))\n",
        "\n",
        "\n",
        "def create_example(image_path, caption):\n",
        "    feature = {\n",
        "        \"caption\": bytes_feature(caption.encode()),\n",
        "        \"raw_image\": bytes_feature(tf.io.read_file(image_path).numpy()),\n",
        "        \"image_path\": bytes_feature(image_path.encode()),\n",
        "    }\n",
        "    return tf.train.Example(features=tf.train.Features(feature=feature))\n",
        "\n",
        "\n",
        "def write_tfrecords(file_name, image_paths):\n",
        "    caption_list = []\n",
        "    image_path_list = []\n",
        "    for image_path in image_paths:\n",
        "        captions = image_path_to_caption[image_path][:captions_per_image]\n",
        "        caption_list.extend(captions)\n",
        "        image_path_list.extend([image_path] * len(captions))\n",
        "\n",
        "    with tf.io.TFRecordWriter(file_name) as writer:\n",
        "        for example_idx in range(len(image_path_list)):\n",
        "            example = create_example(\n",
        "                image_path_list[example_idx], caption_list[example_idx]\n",
        "            )\n",
        "            writer.write(example.SerializeToString())\n",
        "    return example_idx + 1\n",
        "\n",
        "\n",
        "def write_data(image_paths, num_files, files_prefix):\n",
        "    example_counter = 0\n",
        "    for file_idx in tqdm(range(num_files)):\n",
        "        file_name = files_prefix + \"-%02d.tfrecord\" % (file_idx)\n",
        "        start_idx = images_per_file * file_idx\n",
        "        end_idx = start_idx + images_per_file\n",
        "        example_counter += write_tfrecords(file_name, image_paths[start_idx:end_idx])\n",
        "    return example_counter\n",
        "\n",
        "\n",
        "train_example_count = write_data(train_image_paths, num_train_files, train_files_prefix)\n",
        "print(f\"{train_example_count} training examples were written to tfrecord files.\")\n",
        "\n",
        "valid_example_count = write_data(valid_image_paths, num_valid_files, valid_files_prefix)\n",
        "print(f\"{valid_example_count} evaluation examples were written to tfrecord files.\")"
      ]
    },
    {
      "cell_type": "markdown",
      "metadata": {
        "id": "6QP_kJ5UxT3b"
      },
      "source": [
        "### Create `tf.data.Dataset` for training and evaluation"
      ]
    },
    {
      "cell_type": "code",
      "execution_count": null,
      "metadata": {
        "id": "k4qORcZUxT3b"
      },
      "outputs": [],
      "source": [
        "\n",
        "feature_description = {\n",
        "    \"caption\": tf.io.FixedLenFeature([], tf.string),\n",
        "    \"raw_image\": tf.io.FixedLenFeature([], tf.string),\n",
        "}\n",
        "\n",
        "\n",
        "def read_example(example):\n",
        "    features = tf.io.parse_single_example(example, feature_description)\n",
        "    raw_image = features.pop(\"raw_image\")\n",
        "    features[\"image\"] = tf.image.resize(\n",
        "        tf.image.decode_jpeg(raw_image, channels=3), size=(W, H)\n",
        "    )\n",
        "    return features\n",
        "\n",
        "\n",
        "def get_dataset(file_pattern, batch_size):\n",
        "\n",
        "    return (\n",
        "        tf.data.TFRecordDataset(tf.data.Dataset.list_files(file_pattern))\n",
        "        .map(\n",
        "            read_example,\n",
        "            num_parallel_calls=tf.data.AUTOTUNE,\n",
        "            deterministic=False,\n",
        "        )\n",
        "        .shuffle(batch_size * 10)\n",
        "        .prefetch(buffer_size=tf.data.AUTOTUNE)\n",
        "        .batch(batch_size)\n",
        "    )\n",
        "\n",
        "def parse_text_fn(example):\n",
        "    example = tf.io.parse_single_example(example, feature_description)\n",
        "    return example['caption']\n",
        "\n",
        "def get_text_dataset(pattern, batch_size):\n",
        "    files = tf.data.Dataset.list_files(pattern)\n",
        "    text_dataset = files.interleave(\n",
        "        lambda x: tf.data.TFRecordDataset(x).map(parse_text_fn, num_parallel_calls=tf.data.AUTOTUNE),\n",
        "        cycle_length=tf.data.AUTOTUNE,\n",
        "        block_length=1,\n",
        "        num_parallel_calls=tf.data.AUTOTUNE\n",
        "    )\n",
        "    return text_dataset.batch(batch_size).prefetch(tf.data.AUTOTUNE)"
      ]
    },
    {
      "cell_type": "markdown",
      "metadata": {
        "id": "r7RwP61TxT3c"
      },
      "source": [
        "## Implement the projection head\n",
        "\n",
        "The projection head is used to transform the image and the text embeddings to\n",
        "the same embedding space with the same dimensionality."
      ]
    },
    {
      "cell_type": "code",
      "execution_count": 7,
      "metadata": {
        "id": "sAVxtCczxT3c"
      },
      "outputs": [],
      "source": [
        "\n",
        "def project_embeddings(\n",
        "    embeddings, num_projection_layers, projection_dims, dropout_rate\n",
        "):\n",
        "    projected_embeddings = layers.Dense(units=projection_dims)(embeddings)\n",
        "    for _ in range(num_projection_layers):\n",
        "        x = tf.nn.gelu(projected_embeddings)\n",
        "        x = layers.Dense(projection_dims)(x)\n",
        "        x = layers.Dropout(dropout_rate)(x)\n",
        "        x = layers.Add()([projected_embeddings, x])\n",
        "        projected_embeddings = layers.LayerNormalization()(x)\n",
        "    return projected_embeddings\n"
      ]
    },
    {
      "cell_type": "markdown",
      "metadata": {
        "id": "Yn-iBhj4xT3c"
      },
      "source": [
        "## Implement the vision encoder\n",
        "\n",
        "In this example, we use [Xception](https://keras.io/api/applications/xception/)\n",
        "from [Keras Applications](https://keras.io/api/applications/) as the base for the\n",
        "vision encoder."
      ]
    },
    {
      "cell_type": "code",
      "execution_count": 8,
      "metadata": {
        "id": "rHPzNzokxT3c"
      },
      "outputs": [],
      "source": [
        "# Load the Vision Transformer (ViT) model and image processor\n",
        "'''\n",
        "vit_model = TFAutoModel.from_pretrained(\"google/vit-base-patch16-224-in21k\")\n",
        "image_processor = AutoImageProcessor.from_pretrained(\"google/vit-base-patch16-224-in21k\")\n",
        "\n",
        "class ImagePreprocessingLayer(layers.Layer):\n",
        "    def __init__(self, **kwargs):\n",
        "        super(ImagePreprocessingLayer, self).__init__(**kwargs)\n",
        "\n",
        "    def call(self, inputs):\n",
        "        # Ensure correct dtype\n",
        "        inputs = tf.cast(inputs, tf.float32)\n",
        "\n",
        "        # Normalize images to [0, 1] (ViT expects pixel values between 0-1)\n",
        "        inputs = inputs / 255.0\n",
        "\n",
        "        # Ensure correct shape for ViT (batch, channels, height, width)\n",
        "        inputs = tf.image.resize(inputs, (224, 224))  # Resize images\n",
        "        inputs = tf.transpose(inputs, perm=[0, 3, 1, 2])  # ViT expects channels-first\n",
        "\n",
        "        return inputs\n",
        "\n",
        "class ViTEmbeddingLayer(layers.Layer):\n",
        "    def __init__(self, vit_model, **kwargs):\n",
        "        super(ViTEmbeddingLayer, self).__init__(**kwargs)\n",
        "        self.vit_model = vit_model  # Store ViT model\n",
        "        self.vit_model.trainable = True  # Freeze ViT weights\n",
        "\n",
        "    def call(self, inputs):\n",
        "        vit_outputs = self.vit_model(inputs)  # Get ViT model output\n",
        "        cls_embeddings = vit_outputs.last_hidden_state[:, 0, :]  # Extract CLS token\n",
        "        return cls_embeddings\n",
        "'''\n",
        "\n",
        "def create_vision_encoder(\n",
        "    num_projection_layers, projection_dims, dropout_rate, trainable=False, go_back=0, project=True, alg=\"xception\"\n",
        "):\n",
        "    base_vision_model = None\n",
        "\n",
        "    # Receive the images as inputs.\n",
        "    inputs = layers.Input(shape=(W, H, C), name=\"image_input\")\n",
        "\n",
        "    embeddings = None\n",
        "\n",
        "    if alg == \"custom\":\n",
        "      def block(x, i):\n",
        "        org = x\n",
        "        x = layers.SeparableConv2D(32, (3, 3), padding='same', name=f'sepconv1{i}')(x)\n",
        "        x = layers.BatchNormalization(name=f'bn1{i}')(x)\n",
        "        x = layers.Activation('relu', name=f'relu1{i}')(x)\n",
        "\n",
        "        x = layers.SeparableConv2D(64, (3, 3), padding='same', name=f'sepconv2{i}')(x)\n",
        "        x = layers.BatchNormalization(name=f'bn2{i}')(x)\n",
        "        x = layers.Activation('relu', name=f'relu2{i}')(x)\n",
        "\n",
        "        shortcut = layers.SeparableConv2D(64, (1, 1), padding='same', name=f'shortcut{i}')(org)\n",
        "        shortcut = layers.BatchNormalization(name=f'shortcut_bn{i}')(shortcut)\n",
        "        shortcut = layers.Activation('relu', name=f'shortcut_relu{i}')(shortcut)\n",
        "\n",
        "        x = layers.add([x, shortcut], name=f'add{i}')\n",
        "        x = layers.Activation('relu', name=f'relu3{i}')(x)\n",
        "\n",
        "        return x\n",
        "\n",
        "      x = inputs\n",
        "      for i in range(6):\n",
        "        x = block(x, i)\n",
        "\n",
        "      embeddings = layers.GlobalAveragePooling2D()(x)\n",
        "    elif alg == \"vit\":\n",
        "      processed_inputs = ImagePreprocessingLayer()(inputs)\n",
        "      embeddings = ViTEmbeddingLayer(vit_model)(processed_inputs)\n",
        "      base_vision_model = vit_model\n",
        "    else:\n",
        "      xception = keras.applications.Xception(\n",
        "          include_top=False, weights=\"imagenet\", pooling=\"avg\"\n",
        "      )\n",
        "      base_vision_model = xception\n",
        "      for layer in xception.layers:\n",
        "          layer.trainable = False\n",
        "      if go_back > 0:\n",
        "          for layer in xception.layers[-go_back:]:\n",
        "              layer.trainable = True\n",
        "      xception_input = tf.keras.applications.xception.preprocess_input(inputs)\n",
        "      embeddings = xception(xception_input)\n",
        "\n",
        "    outputs = embeddings\n",
        "    # Project the embeddings produced by the model.\n",
        "    if project:\n",
        "      outputs = project_embeddings(\n",
        "          embeddings, num_projection_layers, projection_dims, dropout_rate\n",
        "      )\n",
        "    # Create the vision encoder model.\n",
        "    return base_vision_model, keras.Model(inputs, outputs, name=\"vision_encoder\")\n"
      ]
    },
    {
      "cell_type": "code",
      "execution_count": 9,
      "metadata": {
        "id": "SSkTfOe7hp4a"
      },
      "outputs": [],
      "source": [
        "text_dataset = get_text_dataset(os.path.join(tfrecords_dir, \"train-*.tfrecord\"), 256)"
      ]
    },
    {
      "cell_type": "markdown",
      "metadata": {
        "id": "OxEKOKsNxT3c"
      },
      "source": [
        "## Implement the text encoder\n",
        "\n",
        "We use [BERT](https://tfhub.dev/tensorflow/small_bert/bert_en_uncased_L-12_H-256_A-4/1)\n",
        "from [TensorFlow Hub](https://tfhub.dev) as the text encoder"
      ]
    },
    {
      "cell_type": "code",
      "execution_count": 10,
      "metadata": {
        "id": "9X6PdnFml4Kv"
      },
      "outputs": [],
      "source": [
        "class TransformerBlock(layers.Layer):\n",
        "    def __init__(self, embed_dim, num_heads, ff_dim, rate=0.1):\n",
        "        super().__init__()\n",
        "        self.att = layers.MultiHeadAttention(num_heads=num_heads, key_dim=embed_dim)\n",
        "        self.ffn = keras.Sequential(\n",
        "            [layers.Dense(ff_dim, activation=\"relu\"), layers.Dense(embed_dim),]\n",
        "        )\n",
        "        self.layernorm1 = layers.LayerNormalization(epsilon=1e-6)\n",
        "        self.layernorm2 = layers.LayerNormalization(epsilon=1e-6)\n",
        "        self.dropout1 = layers.Dropout(rate)\n",
        "        self.dropout2 = layers.Dropout(rate)\n",
        "\n",
        "    def call(self, inputs):\n",
        "        attn_output = self.att(inputs, inputs)\n",
        "        attn_output = self.dropout1(attn_output)\n",
        "        out1 = self.layernorm1(inputs + attn_output)\n",
        "        ffn_output = self.ffn(out1)\n",
        "        ffn_output = self.dropout2(ffn_output)\n",
        "        return self.layernorm2(out1 + ffn_output)\n",
        "\n",
        "class TokenAndPositionEmbedding(layers.Layer):\n",
        "    def __init__(self, maxlen, vocab_size, embed_dim):\n",
        "        super().__init__()\n",
        "        self.token_emb = layers.Embedding(input_dim=vocab_size, output_dim=embed_dim)\n",
        "        self.pos_emb = layers.Embedding(input_dim=maxlen, output_dim=embed_dim)\n",
        "\n",
        "    def call(self, x):\n",
        "        maxlen = tf.shape(x)[-1]\n",
        "        positions = tf.range(0, maxlen, 1)\n",
        "        positions = self.pos_emb(positions)\n",
        "        x = self.token_emb(x)\n",
        "        return x + positions"
      ]
    },
    {
      "cell_type": "code",
      "execution_count": 11,
      "metadata": {
        "id": "euidKZFjxT3c"
      },
      "outputs": [],
      "source": [
        "\n",
        "def create_text_encoder(\n",
        "    num_projection_layers, projection_dims, dropout_rate, trainable=False, project=True, adapt=0, alg=\"bert\"\n",
        "):\n",
        "    # Load the BERT preprocessing module.\n",
        "    preprocess = hub.KerasLayer(\n",
        "        \"https://tfhub.dev/tensorflow/bert_en_uncased_preprocess/2\",\n",
        "        name=\"text_preprocessing\",\n",
        "    )\n",
        "    # Load the pre-trained BERT model to be used as the base encoder.\n",
        "    bert = hub.KerasLayer(\n",
        "        \"https://tfhub.dev/tensorflow/small_bert/bert_en_uncased_L-4_H-512_A-8/1\",\n",
        "        name=\"bert\",\n",
        "    )\n",
        "    # Set the trainability of the base encoder.\n",
        "    bert.trainable = trainable\n",
        "    text_base_model = bert\n",
        "\n",
        "    # Receive the text as inputs.\n",
        "    inputs = layers.Input(shape=(), dtype=tf.string, name=\"text_input\")\n",
        "\n",
        "    def bert_process(x):\n",
        "      # Preprocess the text.\n",
        "      bert_inputs = preprocess(x)\n",
        "      # Generate embeddings for the preprocessed text using the BERT model.\n",
        "      embeddings = bert(bert_inputs)[\"pooled_output\"]\n",
        "      return embeddings\n",
        "\n",
        "    def bert_lstm(x):\n",
        "      # Preprocess the text.\n",
        "      bert_inputs = preprocess(x)\n",
        "      # Generate embeddings for the preprocessed text using the BERT model.\n",
        "      bert_outputs = bert(bert_inputs)\n",
        "      hidden_states = bert_outputs[\"sequence_output\"]\n",
        "      embeddings = layers.Bidirectional(layers.LSTM(128, return_sequences=True, dropout=0.1, recurrent_dropout=0.1))(hidden_states)\n",
        "      embeddings = layers.Bidirectional(layers.LSTM(128, return_sequences=False, dropout=0.1, recurrent_dropout=0.1))(embeddings)\n",
        "      return embeddings\n",
        "\n",
        "    def lstm_process(x):\n",
        "      max_tokens = 10000\n",
        "      embedding_dim = 256\n",
        "      lstm_units = 256\n",
        "      e = x\n",
        "      # Step 1: Tokenize the text\n",
        "      tv = layers.TextVectorization(max_tokens=max_tokens, name=\"tv\", standardize=\"lower_and_strip_punctuation\")\n",
        "      tv.adapt(text_dataset.map(lambda x: x))\n",
        "      e = tv(e)\n",
        "      # Step 2: Embed the tokenized text\n",
        "      e = layers.Embedding(max_tokens, embedding_dim, name=\"embedding\")(e)\n",
        "      # Step 3: Use an LSTM layer to get a sentence embedding\n",
        "      e = layers.Bidirectional(layers.LSTM(lstm_units, name=\"lstm1\", return_sequences=True, dropout=0.2, recurrent_dropout=0.2))(e)\n",
        "      e = layers.LayerNormalization(name=\"layer_norm1\")(e)\n",
        "      e = layers.Bidirectional(layers.LSTM(lstm_units, name=\"lstm2\", return_sequences=True, dropout=0.2, recurrent_dropout=0.2))(e)\n",
        "      e = layers.LayerNormalization(name=\"layer_norm2\")(e)\n",
        "      e = layers.GlobalAveragePooling1D()(e)\n",
        "      #e = layers.LSTM(lstm_units, name=\"lstm3\", return_sequences=False, dropout=0.2, recurrent_dropout=0.2)(e)\n",
        "      #e = layers.LayerNormalization(name=\"layer_norm3\")(e)\n",
        "      return e\n",
        "\n",
        "    def transformer_process(x):\n",
        "      e = x\n",
        "      max_tokens = 10000\n",
        "      output_sequence_length = 100\n",
        "\n",
        "      tv = layers.TextVectorization(\n",
        "        max_tokens=max_tokens,\n",
        "        output_mode='int',\n",
        "        output_sequence_length=output_sequence_length,\n",
        "        standardize=\"lower_and_strip_punctuation\", name=\"tv\")\n",
        "      tv.adapt(text_dataset.map(lambda x: x))\n",
        "      e = tv(e)\n",
        "\n",
        "      embedding_layer = TokenAndPositionEmbedding(maxlen=output_sequence_length, vocab_size=max_tokens, embed_dim=128)\n",
        "      e = embedding_layer(e)\n",
        "\n",
        "      for i in range(3):\n",
        "        e = TransformerBlock(128, 8, 128, rate=0.1)(e)\n",
        "\n",
        "      e = layers.GlobalAveragePooling1D()(e)\n",
        "\n",
        "      return e\n",
        "\n",
        "\n",
        "    # Generate the embeddings for the text using the BERT model.\n",
        "    embeddings = None\n",
        "    if alg == \"bert\":\n",
        "      embeddings = bert_process(inputs)\n",
        "    elif alg == \"lstm\":\n",
        "      embeddings = lstm_process(inputs)\n",
        "    elif alg == \"bert_lstm\":\n",
        "      embeddings = bert_lstm(inputs)\n",
        "    elif alg == \"transformer\":\n",
        "      embeddings = transformer_process(inputs)\n",
        "    else:\n",
        "      raise ValueError(\"Invalid algorithm\")\n",
        "\n",
        "    # Project the embeddings produced by the model.\n",
        "    outputs = embeddings\n",
        "    if project:\n",
        "      outputs = project_embeddings(\n",
        "          embeddings, num_projection_layers, projection_dims, dropout_rate\n",
        "      )\n",
        "    # Adapt dims if needed.\n",
        "    if adapt > 0:\n",
        "      outputs = layers.Dense(adapt)(outputs)\n",
        "    # Create the text encoder model.\n",
        "    return text_base_model, keras.Model(inputs, outputs, name=\"text_encoder\")\n"
      ]
    },
    {
      "cell_type": "markdown",
      "metadata": {
        "id": "kex-sacFxT3c"
      },
      "source": [
        "## Implement the dual encoder\n",
        "\n",
        "To calculate the loss, we compute the pairwise dot-product similarity between\n",
        "each `caption_i` and `images_j` in the batch as the predictions.\n",
        "The target similarity between `caption_i`  and `image_j` is computed as\n",
        "the average of the (dot-product similarity between `caption_i` and `caption_j`)\n",
        "and (the dot-product similarity between `image_i` and `image_j`).\n",
        "Then, we use crossentropy to compute the loss between the targets and the predictions."
      ]
    },
    {
      "cell_type": "code",
      "execution_count": 12,
      "metadata": {
        "id": "F9qO5WzvxT3c"
      },
      "outputs": [],
      "source": [
        "\n",
        "class DualEncoder(keras.Model):\n",
        "    def __init__(self, text_encoder, image_encoder, temperature=1.0, mature_size='both', **kwargs):\n",
        "        super().__init__(**kwargs)\n",
        "        self.text_encoder = text_encoder\n",
        "        self.image_encoder = image_encoder\n",
        "        self.temperature = temperature\n",
        "        self.loss_tracker = keras.metrics.Mean(name=\"loss\")\n",
        "        self.mature_size = mature_size\n",
        "\n",
        "    @property\n",
        "    def metrics(self):\n",
        "        return [self.loss_tracker]\n",
        "\n",
        "    def call(self, features, training=False):\n",
        "        # Place each encoder on a separate GPU (if available).\n",
        "        # TF will fallback on available devices if there are fewer than 2 GPUs.\n",
        "        with tf.device(\"/gpu:0\"):\n",
        "            # Get the embeddings for the captions.\n",
        "            caption_embeddings = text_encoder(features[\"caption\"], training=training)\n",
        "        with tf.device(\"/gpu:1\"):\n",
        "            # Get the embeddings for the images.\n",
        "            image_embeddings = vision_encoder(features[\"image\"], training=training)\n",
        "        return caption_embeddings, image_embeddings\n",
        "\n",
        "    def compute_loss(self, caption_embeddings, image_embeddings):\n",
        "        caption_embeddings = tf.math.l2_normalize(caption_embeddings, axis=1)\n",
        "        image_embeddings = tf.math.l2_normalize(image_embeddings, axis=1)\n",
        "\n",
        "        # logits[i][j] is the dot_similarity(caption_i, image_j).\n",
        "        logits = (\n",
        "            tf.matmul(caption_embeddings, image_embeddings, transpose_b=True)\n",
        "            / self.temperature\n",
        "        )\n",
        "\n",
        "        cap_to_img = logits\n",
        "        img_to_cap = tf.transpose(logits)\n",
        "\n",
        "        # images_similarity[i][j] is the dot_similarity(image_i, image_j).\n",
        "        images_similarity = tf.matmul(\n",
        "            image_embeddings, image_embeddings, transpose_b=True\n",
        "        )\n",
        "        # captions_similarity[i][j] is the dot_similarity(caption_i, caption_j).\n",
        "        captions_similarity = tf.matmul(\n",
        "            caption_embeddings, caption_embeddings, transpose_b=True\n",
        "        )\n",
        "        # Get the targets\n",
        "        if self.mature_size == 'both':\n",
        "          targets = (captions_similarity + images_similarity) / (2 * self.temperature)\n",
        "        elif self.mature_size == 'caption':\n",
        "          targets = captions_similarity / self.temperature\n",
        "        else:\n",
        "          targets = images_similarity / self.temperature\n",
        "\n",
        "        targets = keras.activations.softmax(targets)\n",
        "\n",
        "        # Compute the loss for the captions using crossentropy\n",
        "        captions_loss = keras.losses.categorical_crossentropy(\n",
        "            y_true=targets, y_pred=cap_to_img, from_logits=True\n",
        "        )\n",
        "        # Compute the loss for the images using crossentropy\n",
        "        images_loss = keras.losses.categorical_crossentropy(\n",
        "            y_true=targets, y_pred=img_to_cap, from_logits=True\n",
        "        )\n",
        "\n",
        "        if self.mature_size == 'both':\n",
        "          # Return the mean of the loss over the batch.\n",
        "          return (captions_loss + images_loss) / 2\n",
        "        elif self.mature_size == 'caption':\n",
        "          return images_loss\n",
        "        else:\n",
        "          return captions_loss\n",
        "\n",
        "    def train_step(self, features):\n",
        "        with tf.GradientTape() as tape:\n",
        "            # Forward pass\n",
        "            caption_embeddings, image_embeddings = self(features, training=True)\n",
        "            loss = self.compute_loss(caption_embeddings, image_embeddings)\n",
        "        # Backward pass\n",
        "        gradients = tape.gradient(loss, self.trainable_variables)\n",
        "        self.optimizer.apply_gradients(zip(gradients, self.trainable_variables))\n",
        "        # Monitor loss\n",
        "        self.loss_tracker.update_state(loss)\n",
        "        return {\"loss\": self.loss_tracker.result()}\n",
        "\n",
        "    def test_step(self, features):\n",
        "        caption_embeddings, image_embeddings = self(features, training=False)\n",
        "        loss = self.compute_loss(caption_embeddings, image_embeddings)\n",
        "        self.loss_tracker.update_state(loss)\n",
        "        return {\"loss\": self.loss_tracker.result()}\n"
      ]
    },
    {
      "cell_type": "markdown",
      "metadata": {
        "id": "M47dnKb2xT3d"
      },
      "source": [
        "## Train the dual encoder model\n",
        "\n",
        "In this experiment, we freeze the base encoders for text and images, and make only\n",
        "the projection head trainable."
      ]
    },
    {
      "cell_type": "code",
      "execution_count": 13,
      "metadata": {
        "id": "O5qIDjHGxT3d",
        "colab": {
          "base_uri": "https://localhost:8080/"
        },
        "outputId": "ea81d16d-98c0-46f1-ddfb-1382448a0375"
      },
      "outputs": [
        {
          "output_type": "stream",
          "name": "stdout",
          "text": [
            "Downloading data from https://storage.googleapis.com/tensorflow/keras-applications/xception/xception_weights_tf_dim_ordering_tf_kernels_notop.h5\n",
            "83683744/83683744 [==============================] - 0s 0us/step\n"
          ]
        }
      ],
      "source": [
        "num_epochs = 20  # In practice, train for at least 30 epochs\n",
        "batch_size = 256\n",
        "\n",
        "base_vision_model, vision_encoder = create_vision_encoder(\n",
        "    num_projection_layers=1, projection_dims=256, dropout_rate=0.1, trainable=False, go_back=0, project=False, alg=\"xception\"\n",
        ")\n",
        "base_text_model, text_encoder = create_text_encoder(\n",
        "    num_projection_layers=1, projection_dims=256, dropout_rate=0.1, trainable=False, project=False, adapt=2048, alg=\"transformer\"\n",
        ")\n",
        "\n",
        "dual_encoder = DualEncoder(text_encoder, vision_encoder, mature_size=\"image\", temperature=0.02)\n",
        "dual_encoder.compile(\n",
        "    optimizer=keras.optimizers.Adam(learning_rate=0.001, weight_decay=0.001)\n",
        ")"
      ]
    },
    {
      "cell_type": "markdown",
      "metadata": {
        "id": "C0215_hqxT3d"
      },
      "source": [
        "Note that training the model with 60,000 image-caption pairs, with a batch size of 256,\n",
        "takes around 12 minutes per epoch using a V100 GPU accelerator. If 2 GPUs are available,\n",
        "the epoch takes around 8 minutes."
      ]
    },
    {
      "cell_type": "code",
      "execution_count": null,
      "metadata": {
        "id": "3lVhDwRMZiBv"
      },
      "outputs": [],
      "source": [
        "vision_encoder.summary()\n",
        "text_encoder.summary()"
      ]
    },
    {
      "cell_type": "code",
      "execution_count": 15,
      "metadata": {
        "id": "d5-sfBlkMbl0"
      },
      "outputs": [],
      "source": [
        "vision_save_path = f\"{bgPath}/vision_encoder_custom_bert\"\n",
        "text_save_path = f\"{bgPath}/text_encoder_custom_bert\"\n",
        "vision_save_path_lstm = f\"{bgPath}/vision_encoder_custom_lstm\"\n",
        "text_save_path_lstm = f\"{bgPath}/text_encoder_custom_lstm\"\n",
        "vision_save_path_bert_lstm = f\"{bgPath}/vision_encoder_bert_lstm\"\n",
        "text_save_path_bert_lstm = f\"{bgPath}/text_encoder_bert_lstm\"\n",
        "vision_save_path_vit = f\"{bgPath}/vision_encoder_vit\"\n",
        "text_save_path_vit = f\"{bgPath}/text_encoder_vit\"\n",
        "vision_save_path_transformer = f\"{bgPath}/vision_encoder_transformer\"\n",
        "text_save_path_transformer = f\"{bgPath}/text_encoder_transformer\""
      ]
    },
    {
      "cell_type": "code",
      "execution_count": 16,
      "metadata": {
        "id": "FiajVed3Y2Xd"
      },
      "outputs": [],
      "source": [
        "train_dataset = get_dataset(os.path.join(tfrecords_dir, \"train-*.tfrecord\"), batch_size)\n",
        "valid_dataset = get_dataset(os.path.join(tfrecords_dir, \"valid-*.tfrecord\"), batch_size)"
      ]
    },
    {
      "cell_type": "code",
      "execution_count": 17,
      "metadata": {
        "id": "XLtsr9moxT3e"
      },
      "outputs": [],
      "source": [
        "def read_image(image_path):\n",
        "    image_array = tf.image.decode_jpeg(tf.io.read_file(image_path), channels=3)\n",
        "    return tf.image.resize(image_array, (W, H))\n",
        "\n",
        "def generate_image_embeddings(image_paths, batch_size=256):\n",
        "  #print(f\"Generating embeddings for {len(image_paths)} images...\")\n",
        "  image_embeddings = vision_encoder.predict(\n",
        "      tf.data.Dataset.from_tensor_slices(image_paths).map(read_image).batch(batch_size),\n",
        "      verbose=1,\n",
        "  )\n",
        "  #print(f\"Image embeddings shape: {image_embeddings.shape}.\")\n",
        "  return image_embeddings\n",
        "\n",
        "def generate_text_embeddings(queries):\n",
        "  #print(f\"Generating embeddings for {len(queries)} queries...\")\n",
        "  query_embedding = text_encoder(tf.convert_to_tensor(queries))\n",
        "  #print(f\"Query embeddings shape: {query_embedding.shape}.\")\n",
        "  return query_embedding\n",
        "\n",
        "def find_matches(image_paths, queries, ieb=None, qeb=None, k=9, normalize=True):\n",
        "    image_embeddings = ieb\n",
        "    query_embedding = qeb\n",
        "    if query_embedding is None:\n",
        "      query_embedding = generate_text_embeddings(queries)\n",
        "    if image_embeddings is None:\n",
        "      image_embeddings = generate_image_embeddings(image_paths)\n",
        "    print(image_embeddings.shape)\n",
        "    print(query_embedding.shape)\n",
        "    if normalize:\n",
        "        image_embeddings = tf.math.l2_normalize(image_embeddings, axis=1)\n",
        "        query_embedding = tf.math.l2_normalize(query_embedding, axis=1)\n",
        "\n",
        "    dot_similarity = tf.matmul(query_embedding, image_embeddings, transpose_b=True)\n",
        "\n",
        "    results = tf.math.top_k(dot_similarity, k).indices.numpy()\n",
        "\n",
        "    return [[image_paths[idx] for idx in indices] for indices in results]\n",
        "\n",
        "def compute_top_k_accuracy(image_paths, tpk_image_embeddings=None, tpk=100):\n",
        "    hits = 0\n",
        "    num_batches = int(np.ceil(len(image_paths) / batch_size))\n",
        "    for idx in tqdm(range(num_batches)):\n",
        "        start_idx = idx * batch_size\n",
        "        end_idx = start_idx + batch_size\n",
        "        current_image_paths = image_paths[start_idx:end_idx]\n",
        "        queries = [\n",
        "            image_path_to_caption[image_path][0] for image_path in current_image_paths\n",
        "        ]\n",
        "        result = find_matches(image_paths, queries, ieb=tpk_image_embeddings, k=tpk)\n",
        "        hits += sum(\n",
        "            [\n",
        "                image_path in matches\n",
        "                for (image_path, matches) in list(zip(current_image_paths, result))\n",
        "            ]\n",
        "        )\n",
        "\n",
        "    return hits / len(image_paths)\n",
        "\n",
        "def get_performance(train_image_embeddings=None, test_image_embeddings=None):\n",
        "  print(\"Scoring training data...\")\n",
        "  train_accuracy = compute_top_k_accuracy(train_image_paths, tpk_image_embeddings=train_image_embeddings, tpk=100)\n",
        "  print(f\"Train accuracy: {round(train_accuracy * 100, 3)}%\")\n",
        "\n",
        "  print(\"Scoring evaluation data...\")\n",
        "  eval_accuracy = compute_top_k_accuracy(image_paths[train_size:], tpk_image_embeddings=test_image_embeddings, tpk=100)\n",
        "  print(f\"Eval accuracy: {round(eval_accuracy * 100, 3)}%\")"
      ]
    },
    {
      "cell_type": "code",
      "execution_count": null,
      "metadata": {
        "colab": {
          "base_uri": "https://localhost:8080/"
        },
        "id": "nscbFWzdbbec",
        "outputId": "c51ad1f4-89fc-44ac-ec3a-72849f2f3239"
      },
      "outputs": [
        {
          "output_type": "stream",
          "name": "stdout",
          "text": [
            "79/79 [==============================] - 320s 4s/step\n",
            "241/246 [============================>.] - ETA: 21s"
          ]
        }
      ],
      "source": [
        "# Create a learning rate scheduler callback.\n",
        "reduce_lr = keras.callbacks.ReduceLROnPlateau(\n",
        "    monitor=\"val_loss\", factor=0.2, patience=2\n",
        ")\n",
        "# Create an early stopping callback.\n",
        "early_stopping = tf.keras.callbacks.EarlyStopping(\n",
        "    monitor=\"val_loss\", patience=3, restore_best_weights=True\n",
        ")\n",
        "\n",
        "class PerformanceReview(tf.keras.callbacks.Callback):\n",
        "    def __init__(self, fixed_image=True):\n",
        "        super(PerformanceReview, self).__init__()\n",
        "        if fixed_image:\n",
        "          self.train_embeddings = generate_image_embeddings(train_image_paths)\n",
        "          self.test_embeddings = generate_image_embeddings(image_paths[train_size:])\n",
        "        else:\n",
        "          self.train_embeddings = None\n",
        "          self.test_embeddings = None\n",
        "\n",
        "    def on_epoch_end(self, epoch, logs=None):\n",
        "        get_performance(self.train_embeddings, self.test_embeddings)\n",
        "\n",
        "pr = PerformanceReview(fixed_image=True)"
      ]
    },
    {
      "cell_type": "code",
      "execution_count": null,
      "metadata": {
        "colab": {
          "base_uri": "https://localhost:8080/"
        },
        "id": "yUqmyMipxT3d",
        "outputId": "f7449200-aae4-4a9a-a9e7-eb666b24896d"
      },
      "outputs": [
        {
          "output_type": "stream",
          "name": "stdout",
          "text": [
            "Number of GPUs: 0\n",
            "Number of examples (caption-image pairs): 60000\n",
            "Batch size: 256\n",
            "Steps per epoch: 235\n",
            "Epoch 1/20\n",
            "    235/Unknown - 1511s 6s/step - loss: 5.5670"
          ]
        }
      ],
      "source": [
        "print(f\"Number of GPUs: {len(tf.config.list_physical_devices('GPU'))}\")\n",
        "print(f\"Number of examples (caption-image pairs): {train_example_count}\")\n",
        "print(f\"Batch size: {batch_size}\")\n",
        "print(f\"Steps per epoch: {int(np.ceil(train_example_count / batch_size))}\")\n",
        "\n",
        "history = dual_encoder.fit(\n",
        "    train_dataset,\n",
        "    epochs=num_epochs,\n",
        "    validation_data=valid_dataset,\n",
        "    callbacks=[pr, reduce_lr, early_stopping],\n",
        ")"
      ]
    },
    {
      "cell_type": "code",
      "execution_count": null,
      "metadata": {
        "id": "krKD0sCqDgzM"
      },
      "outputs": [],
      "source": [
        "print(\"Training completed. Saving vision and text encoders...\")\n",
        "vision_encoder.save(vision_save_path_transformer)\n",
        "text_encoder.save(text_save_path_transformer)\n",
        "#vision_encoder.save_weights(f\"{bgPath}/vision_encoder_vit/vit_vision_weights.h5\")\n",
        "#text_encoder.save_weights(f\"{bgPath}/vision_encoder_vit/vit_text_weights.h5\")\n",
        "print(\"Models are saved.\")"
      ]
    },
    {
      "cell_type": "markdown",
      "metadata": {
        "id": "QYmM_LLbxT3d"
      },
      "source": [
        "Plotting the training loss:"
      ]
    },
    {
      "cell_type": "code",
      "execution_count": null,
      "metadata": {
        "id": "UcGexpXRxT3d"
      },
      "outputs": [],
      "source": [
        "plt.plot(history.history[\"loss\"])\n",
        "plt.plot(history.history[\"val_loss\"])\n",
        "plt.ylabel(\"Loss\")\n",
        "plt.xlabel(\"Epoch\")\n",
        "plt.legend([\"train\", \"valid\"], loc=\"upper right\")\n",
        "plt.show()"
      ]
    },
    {
      "cell_type": "markdown",
      "metadata": {
        "id": "9Q0eJarqxT3d"
      },
      "source": [
        "### Retrieve relevant images\n",
        "\n",
        "In this example, we use exact matching by computing the dot product similarity\n",
        "between the input query embedding and the image embeddings, and retrieve the top k\n",
        "matches. However, *approximate* similarity matching, using frameworks like\n",
        "[ScaNN](https://github.com/google-research/google-research/tree/master/scann),\n",
        "[Annoy](https://github.com/spotify/annoy), or [Faiss](https://github.com/facebookresearch/faiss)\n",
        "is preferred in real-time use cases to scale with a large number of images."
      ]
    },
    {
      "cell_type": "markdown",
      "metadata": {
        "id": "3b4W1cQrxT3e"
      },
      "source": [
        "Set the `query` variable to the type of images you want to search for.\n",
        "Try things like: 'a plate of healthy food',\n",
        "'a woman wearing a hat is walking down a sidewalk',\n",
        "'a bird sits near to the water', or 'wild animals are standing in a field'."
      ]
    },
    {
      "cell_type": "code",
      "execution_count": null,
      "metadata": {
        "id": "d39KUImlxT3e"
      },
      "outputs": [],
      "source": [
        "q1 = \"a family standing next to the ocean on a sandy beach with a surf board\"\n",
        "q2 = \"handsome men are walking on the street\"\n",
        "q3 = \"people are working hard in the office\"\n",
        "q4 = \"there are mountains and lakes under blue sky\"\n",
        "q5 = \"the houses are very colorful and the streets are neat\"\n",
        "q6 = \"there are shoes\"\n",
        "q7 = \"this is a listing on a commerce website\"\n",
        "q8 = \"a lot of children are in the classroom and the teacher is really strict\"\n",
        "image_embeddings = generate_image_embeddings(image_paths)\n",
        "g = 5\n",
        "for q in [q1, q2, q3, q4, q5, q6, q7, q8]:\n",
        "    matches = find_matches(image_paths, [q], ieb=image_embeddings, normalize=True, k=g*g)[0]\n",
        "    print(q)\n",
        "    plt.figure(figsize=(20, 20))\n",
        "    for i in range(25):\n",
        "        ax = plt.subplot(g, g, i + 1)\n",
        "        plt.imshow(mpimg.imread(matches[i]))\n",
        "        plt.axis(\"on\")\n",
        "    print(\"======================================================\")"
      ]
    },
    {
      "cell_type": "markdown",
      "metadata": {
        "id": "QQ3BElzWAApg"
      },
      "source": [
        "# Train the model using released **features**"
      ]
    },
    {
      "cell_type": "code",
      "execution_count": null,
      "metadata": {
        "id": "SvHlaTOQrqQy"
      },
      "outputs": [],
      "source": [
        "'''\n",
        "back_vision = 11\n",
        "back_text = 11\n",
        "if base_vision_model is not None and base_text_model is not None:\n",
        "  for i in range(-back_vision, 0):\n",
        "    base_vision_model.layers[i].trainable = True\n",
        "  for i in range(-back_text, 0):\n",
        "    base_text_model.layers[i].trainable = True\n",
        "'''\n",
        "\n",
        "num_epochs2 = 10\n",
        "\n",
        "if base_vision_model is not None:\n",
        "  base_vision_model.trainable = True\n",
        "if base_text_model is not None:\n",
        "  base_text_model.trainable = True\n",
        "\n",
        "text_encoder.summary()\n",
        "vision_encoder.summary()\n",
        "\n",
        "history = dual_encoder.fit(\n",
        "    train_dataset,\n",
        "    epochs=num_epochs2,\n",
        "    validation_data=valid_dataset,\n",
        "    callbacks=[reduce_lr, early_stopping],\n",
        ")\n",
        "\n",
        "#vision_encoder.save_weights(f\"{bgPath}/vision_encoder_vit/vit_vision_weights.h5\")\n",
        "#text_encoder.save_weights(f\"{bgPath}/vision_encoder_vit/vit_text_weights.h5\")\n",
        "\n",
        "print(\"Scoring training data...\")\n",
        "train_accuracy = compute_top_k_accuracy(train_image_paths)\n",
        "print(f\"Train accuracy: {round(train_accuracy * 100, 3)}%\")\n",
        "\n",
        "print(\"Scoring evaluation data...\")\n",
        "eval_accuracy = compute_top_k_accuracy(image_paths[train_size:], k=100)\n",
        "print(f\"Eval accuracy: {round(eval_accuracy * 100, 3)}%\")"
      ]
    },
    {
      "cell_type": "markdown",
      "metadata": {
        "id": "mRk3NPWwxT3e"
      },
      "source": [
        "## Final remarks\n",
        "\n",
        "You can obtain better results by increasing the size of the training sample,\n",
        "train for more  epochs, explore other base encoders for images and text,\n",
        "set the base encoders to be trainable, and tune the hyperparameters,\n",
        "especially the `temperature` for the softmax in the loss computation.\n",
        "\n",
        "Example available on HuggingFace\n",
        "\n",
        "| Trained Model | Demo |\n",
        "| :--: | :--: |\n",
        "| [![Generic badge](https://img.shields.io/badge/%F0%9F%A4%97%20Model-nl%20image%20search-black.svg)](https://huggingface.co/keras-io/dual-encoder-image-search) | [![Generic badge](https://img.shields.io/badge/%F0%9F%A4%97%20Spaces-nl%20image%20search-black.svg)](https://huggingface.co/spaces/keras-io/dual-encoder-image-search) |\n"
      ]
    }
  ],
  "metadata": {
    "accelerator": "TPU",
    "colab": {
      "gpuType": "V28",
      "machine_shape": "hm",
      "provenance": [],
      "include_colab_link": true
    },
    "kernelspec": {
      "display_name": "Python 3",
      "name": "python3"
    },
    "language_info": {
      "codemirror_mode": {
        "name": "ipython",
        "version": 3
      },
      "file_extension": ".py",
      "mimetype": "text/x-python",
      "name": "python",
      "nbconvert_exporter": "python",
      "pygments_lexer": "ipython3",
      "version": "3.7.0"
    }
  },
  "nbformat": 4,
  "nbformat_minor": 0
}